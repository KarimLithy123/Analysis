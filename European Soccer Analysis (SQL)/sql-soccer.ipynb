{
 "cells": [
  {
   "cell_type": "code",
   "execution_count": 1,
   "id": "4b83abf2-0b10-4f77-bcdd-b73197803523",
   "metadata": {},
   "outputs": [],
   "source": [
    "import numpy as np \n",
    "import pandas as pd\n",
    "import sqlite3\n",
    "import matplotlib.pyplot as plt\n",
    "%load_ext sql"
   ]
  },
  {
   "cell_type": "code",
   "execution_count": 2,
   "id": "eb643e81-ce9e-4641-8a61-9f4e2c70f143",
   "metadata": {},
   "outputs": [],
   "source": [
    "%sql sqlite:///database.sqlite\n"
   ]
  },
  {
   "cell_type": "code",
   "execution_count": null,
   "id": "04fab2f0-61c5-4816-836f-1d3c3d9e8c9e",
   "metadata": {},
   "outputs": [
    {
     "name": "stdout",
     "output_type": "stream",
     "text": [
      " * sqlite:///database.sqlite\n",
      "Done.\n"
     ]
    }
   ],
   "source": [
    "%%sql\n",
    "select * from Match"
   ]
  },
  {
   "cell_type": "code",
   "execution_count": null,
   "id": "50e06441-214a-4859-b198-2cffa3355acd",
   "metadata": {},
   "outputs": [],
   "source": []
  }
 ],
 "metadata": {
  "kernelspec": {
   "display_name": "Python 3 (ipykernel)",
   "language": "python",
   "name": "python3"
  },
  "language_info": {
   "codemirror_mode": {
    "name": "ipython",
    "version": 3
   },
   "file_extension": ".py",
   "mimetype": "text/x-python",
   "name": "python",
   "nbconvert_exporter": "python",
   "pygments_lexer": "ipython3",
   "version": "3.9.18"
  }
 },
 "nbformat": 4,
 "nbformat_minor": 5
}
